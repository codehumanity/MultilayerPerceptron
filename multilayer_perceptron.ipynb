{
 "cells": [
  {
   "cell_type": "code",
   "execution_count": 4,
   "metadata": {
    "collapsed": true
   },
   "outputs": [],
   "source": [
    "#1 layer Multilayer Perceptron\n",
    "#Reference:\n",
    "#https://databoys.github.io/Feedforward/\n",
    "#https://www.doc.ic.ac.uk/~sgc/teaching/pre2012/v231/lecture13.html\n",
    "#Search keywords: (Google)\n",
    "#numerical calculation + multu layer perceptron"
   ]
  },
  {
   "cell_type": "code",
   "execution_count": 5,
   "metadata": {
    "collapsed": true
   },
   "outputs": [],
   "source": [
    "import scipy as sc\n",
    "import numpy as np"
   ]
  },
  {
   "cell_type": "code",
   "execution_count": 6,
   "metadata": {
    "collapsed": true
   },
   "outputs": [],
   "source": [
    "# Input to NN\n",
    "X = np.array([10, 30, 20])"
   ]
  },
  {
   "cell_type": "code",
   "execution_count": 7,
   "metadata": {
    "collapsed": true
   },
   "outputs": [],
   "source": [
    "#Weights - Input to Hidden Layer\n",
    "W1 = np.array([[0.2, -0.1, 0.4],[0.7, -1.2, 1.2]])"
   ]
  },
  {
   "cell_type": "code",
   "execution_count": 8,
   "metadata": {
    "collapsed": true
   },
   "outputs": [],
   "source": [
    "#Weights - From Hidden to Output Layer\n",
    "W2 = np.array([[1.1, 0.1],[3.1, 1.17]])"
   ]
  },
  {
   "cell_type": "code",
   "execution_count": 9,
   "metadata": {
    "collapsed": true
   },
   "outputs": [],
   "source": [
    "#Transpose is used for \"Intermediate Output; Before Sigmoid Transformation\"\n",
    "W2T = W2.T"
   ]
  },
  {
   "cell_type": "code",
   "execution_count": 10,
   "metadata": {
    "collapsed": true
   },
   "outputs": [],
   "source": [
    "#Bias \n",
    "#CHNAGE: BIAS IS NOT USED; FIND OUT HOW IT CAN BE USED.\n",
    "B = np.array([1, 1])"
   ]
  },
  {
   "cell_type": "code",
   "execution_count": 15,
   "metadata": {
    "collapsed": true
   },
   "outputs": [],
   "source": [
    "#Input to Hidden Layer\n",
    "H_Mat = X.dot(W1.T)"
   ]
  },
  {
   "cell_type": "code",
   "execution_count": 16,
   "metadata": {
    "collapsed": true
   },
   "outputs": [],
   "source": [
    "#Sigmoid Transformation\n",
    "def sigmoid(x):\n",
    "    return 1/ (1 + np.exp(-x))"
   ]
  },
  {
   "cell_type": "code",
   "execution_count": 17,
   "metadata": {},
   "outputs": [],
   "source": [
    "#Sigmoid Transformation\n",
    "H_Out = sigmoid(H_Mat)"
   ]
  },
  {
   "cell_type": "code",
   "execution_count": 18,
   "metadata": {
    "collapsed": true
   },
   "outputs": [],
   "source": [
    "# Intermediate Output; before final Sigmoid transformation\n",
    "O = H_Out.dot(W2T)"
   ]
  },
  {
   "cell_type": "code",
   "execution_count": 19,
   "metadata": {},
   "outputs": [
    {
     "data": {
      "text/plain": [
       "array([ 0.75019773,  0.95709878])"
      ]
     },
     "execution_count": 19,
     "metadata": {},
     "output_type": "execute_result"
    }
   ],
   "source": [
    "#Final Output \n",
    "#Feedforward Output is \"OF\" Variable\n",
    "OF = sigmoid(O)\n",
    "OF"
   ]
  },
  {
   "cell_type": "code",
   "execution_count": 20,
   "metadata": {
    "collapsed": true
   },
   "outputs": [],
   "source": [
    "#CHANGE : The Hard Coded Dimensions.\n",
    "def error_term(A, T):\n",
    "    '''\n",
    "    Function to calculate the error.\n",
    "    Input:\n",
    "    A -> Actual\n",
    "    T -> Target\n",
    "    Output:\n",
    "    Outputs e\n",
    "    '''\n",
    "    one = np.ones((2,1))\n",
    "    A1 = A.reshape(2,1)\n",
    "    DI = one - A1\n",
    "    T_MAT = np.diag(DI[:, 0])\n",
    "    OF_new = A.dot(T_MAT)\n",
    "    T_DIFF_OF = T-A\n",
    "    T_DIFF_OF_NP_DIAG = np.diag(T_DIFF_OF)\n",
    "    return(OF_new.dot(T_DIFF_OF_NP_DIAG))"
   ]
  },
  {
   "cell_type": "code",
   "execution_count": 21,
   "metadata": {
    "collapsed": true
   },
   "outputs": [],
   "source": [
    "#CHANGE : TARGET VALUES\n",
    "T = np.array([1, 0]) "
   ]
  },
  {
   "cell_type": "code",
   "execution_count": 22,
   "metadata": {
    "collapsed": true
   },
   "outputs": [],
   "source": [
    "E  = error_term(OF,T)"
   ]
  },
  {
   "cell_type": "code",
   "execution_count": 23,
   "metadata": {
    "collapsed": true
   },
   "outputs": [],
   "source": [
    "def error_hidden_layer(H, W, E):\n",
    "    '''\n",
    "    Function Determines Error of Hidden Layer.\n",
    "    H -> Outputs of Hidden Layer\n",
    "    W -> Weights from Hidden to Output Layer.\n",
    "    E -> Error of Output Layer( Output of error_term function)\n",
    "    '''\n",
    "    #Below line will help to find ERROR of Hidden Layer `\n",
    "    E_H_LAYER1 = E.dot(W)\n",
    "    \n",
    "    #CHANGE: Change the dimension and make it generic\n",
    "    one = np.ones((2,1))\n",
    "    \n",
    "    #CHANGE: Change the dimension and make it generic\n",
    "    ONE_MINUS_H_OUT = one - H.reshape(2,1)\n",
    "    \n",
    "    np.diag(ONE_MINUS_H_OUT[:, 0])\n",
    "    \n",
    "    #Error of Hidden Layer1\n",
    "    Err_H = E_H_LAYER1.dot(np.diag(H)).dot(np.diag(ONE_MINUS_H_OUT[:,0]))\n",
    "    \n",
    "    return Err_H"
   ]
  },
  {
   "cell_type": "code",
   "execution_count": 24,
   "metadata": {
    "collapsed": true
   },
   "outputs": [],
   "source": [
    "Err_H = error_hidden_layer(H_Out, W2, E)"
   ]
  },
  {
   "cell_type": "code",
   "execution_count": 25,
   "metadata": {
    "collapsed": true
   },
   "outputs": [],
   "source": [
    "# CHANGE \"N -> Learning Rate (EETA)\" need to be dynamic.\n",
    "def weight_update(Err_H, X, W1, N=0.1):\n",
    "    '''\n",
    "    Function updates weight as part of Backpropagation\n",
    "    N -> Learning Rate (EETA)\n",
    "    Err_H -> Error of Hidden Layer (Output of function error_hidden_layer)\n",
    "    X -> Input to NN\n",
    "    W1 -> Weights - input to hidden layer\n",
    "    '''\n",
    "    X_shape = X.shape[0]\n",
    "    Err_H_shape = Err_H.shape[0]\n",
    "    W1_new = (Err_H.reshape(Err_H_shape, 1).dot(X.reshape(1, X_shape)) * N) + W1\n",
    "    return W1_new"
   ]
  },
  {
   "cell_type": "code",
   "execution_count": 26,
   "metadata": {
    "collapsed": true
   },
   "outputs": [],
   "source": [
    "W1_new = weight_update(Err_H, X, W1)"
   ]
  },
  {
   "cell_type": "code",
   "execution_count": 27,
   "metadata": {},
   "outputs": [
    {
     "data": {
      "text/plain": [
       "array([[ 0.19993598, -0.10019206,  0.39987196],\n",
       "       [ 0.69972544, -1.20082367,  1.19945089]])"
      ]
     },
     "execution_count": 27,
     "metadata": {},
     "output_type": "execute_result"
    }
   ],
   "source": [
    "W1_new"
   ]
  },
  {
   "cell_type": "code",
   "execution_count": 28,
   "metadata": {},
   "outputs": [
    {
     "data": {
      "text/plain": [
       "array([[ 0.2, -0.1,  0.4],\n",
       "       [ 0.7, -1.2,  1.2]])"
      ]
     },
     "execution_count": 28,
     "metadata": {},
     "output_type": "execute_result"
    }
   ],
   "source": [
    "W1"
   ]
  },
  {
   "cell_type": "code",
   "execution_count": 29,
   "metadata": {},
   "outputs": [
    {
     "data": {
      "text/plain": [
       "array([ 0.04681322, -0.03929915])"
      ]
     },
     "execution_count": 29,
     "metadata": {},
     "output_type": "execute_result"
    }
   ],
   "source": [
    "E"
   ]
  },
  {
   "cell_type": "code",
   "execution_count": 30,
   "metadata": {},
   "outputs": [
    {
     "data": {
      "text/plain": [
       "array([ 0.99908895,  0.00669285])"
      ]
     },
     "execution_count": 30,
     "metadata": {},
     "output_type": "execute_result"
    }
   ],
   "source": [
    "H_Out"
   ]
  },
  {
   "cell_type": "code",
   "execution_count": 31,
   "metadata": {
    "collapsed": true
   },
   "outputs": [],
   "source": [
    "W2_new = weight_update(E, H_Out, W2)"
   ]
  },
  {
   "cell_type": "code",
   "execution_count": 32,
   "metadata": {},
   "outputs": [
    {
     "data": {
      "text/plain": [
       "array([[ 1.10467706,  0.10003133],\n",
       "       [ 3.09607367,  1.1699737 ]])"
      ]
     },
     "execution_count": 32,
     "metadata": {},
     "output_type": "execute_result"
    }
   ],
   "source": [
    "W2_new"
   ]
  },
  {
   "cell_type": "code",
   "execution_count": 33,
   "metadata": {},
   "outputs": [
    {
     "data": {
      "text/plain": [
       "array([[ 1.1 ,  0.1 ],\n",
       "       [ 3.1 ,  1.17]])"
      ]
     },
     "execution_count": 33,
     "metadata": {},
     "output_type": "execute_result"
    }
   ],
   "source": [
    "W2"
   ]
  },
  {
   "cell_type": "code",
   "execution_count": 35,
   "metadata": {},
   "outputs": [
    {
     "data": {
      "text/plain": [
       "2"
      ]
     },
     "execution_count": 35,
     "metadata": {},
     "output_type": "execute_result"
    }
   ],
   "source": [
    "H_Out.shape[0]"
   ]
  },
  {
   "cell_type": "code",
   "execution_count": null,
   "metadata": {
    "collapsed": true
   },
   "outputs": [],
   "source": []
  }
 ],
 "metadata": {
  "kernelspec": {
   "display_name": "Python 3",
   "language": "python",
   "name": "python3"
  },
  "language_info": {
   "codemirror_mode": {
    "name": "ipython",
    "version": 3
   },
   "file_extension": ".py",
   "mimetype": "text/x-python",
   "name": "python",
   "nbconvert_exporter": "python",
   "pygments_lexer": "ipython3",
   "version": "3.6.1"
  }
 },
 "nbformat": 4,
 "nbformat_minor": 2
}
